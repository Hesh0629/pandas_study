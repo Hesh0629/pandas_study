{
  "nbformat": 4,
  "nbformat_minor": 0,
  "metadata": {
    "colab": {
      "name": "pandas_basic.ipynb",
      "provenance": [],
      "collapsed_sections": [],
      "machine_shape": "hm",
      "authorship_tag": "ABX9TyOTb6GtRkZeaaqdUEZ2Czfz",
      "include_colab_link": true
    },
    "kernelspec": {
      "name": "python3",
      "display_name": "Python 3"
    },
    "language_info": {
      "name": "python"
    }
  },
  "cells": [
    {
      "cell_type": "markdown",
      "metadata": {
        "id": "view-in-github",
        "colab_type": "text"
      },
      "source": [
        "<a href=\"https://colab.research.google.com/github/Hesh0629/pandas_study/blob/main/pandas_basic.ipynb\" target=\"_parent\"><img src=\"https://colab.research.google.com/assets/colab-badge.svg\" alt=\"Open In Colab\"/></a>"
      ]
    },
    {
      "cell_type": "markdown",
      "metadata": {
        "id": "RzPd3UXeiltm"
      },
      "source": [
        "# Series"
      ]
    },
    {
      "cell_type": "code",
      "metadata": {
        "id": "7pNJ_zR1iqPt"
      },
      "source": [
        "# https://pandas.pydata.org/pandas-docs/stable/reference/api/pandas.Series.html Series 설명글 (col 하나짜리 Df)\n",
        "import pandas as pd\n",
        "import numpy as np"
      ],
      "execution_count": 127,
      "outputs": []
    },
    {
      "cell_type": "markdown",
      "metadata": {
        "id": "WPuaySSojJJr"
      },
      "source": [
        "### Series 생성"
      ]
    },
    {
      "cell_type": "code",
      "metadata": {
        "colab": {
          "base_uri": "https://localhost:8080/"
        },
        "id": "hMQ49fiyikdz",
        "outputId": "d9a0611d-3ee3-4812-c847-bd3b4bd52d46"
      },
      "source": [
        "# dictionary 이용\n",
        "dict_data = {'a': 1, 'b': 2, 'c': 3}\n",
        "sr=pd.Series(dict_data)\n",
        "sr"
      ],
      "execution_count": 108,
      "outputs": [
        {
          "output_type": "execute_result",
          "data": {
            "text/plain": [
              "a    1\n",
              "b    2\n",
              "c    3\n",
              "dtype: int64"
            ]
          },
          "metadata": {
            "tags": []
          },
          "execution_count": 108
        }
      ]
    },
    {
      "cell_type": "code",
      "metadata": {
        "colab": {
          "base_uri": "https://localhost:8080/"
        },
        "id": "045nm9q-ieZ5",
        "outputId": "6a59fb5f-a941-4332-c7e0-7080a18acc56"
      },
      "source": [
        "# tuple 이용 (list도 된다)\n",
        "tup_data = ('영인', '2010-05-01', '여', True)\n",
        "sr2 = pd.Series(tup_data, index=['이름', '생년월일', '성별', '학생여부'])\n",
        "sr2"
      ],
      "execution_count": 109,
      "outputs": [
        {
          "output_type": "execute_result",
          "data": {
            "text/plain": [
              "이름              영인\n",
              "생년월일    2010-05-01\n",
              "성별               여\n",
              "학생여부          True\n",
              "dtype: object"
            ]
          },
          "metadata": {
            "tags": []
          },
          "execution_count": 109
        }
      ]
    },
    {
      "cell_type": "code",
      "metadata": {
        "id": "aRMVOk4qkQum"
      },
      "source": [
        "print(sr[['b','a']])  # key값으로 value를 불러오는데 리스트로 여러개 불러와도 됨 (이러면 series 객체 반환)\n",
        "print(sr[[2,0]])      # 정수형 인덱스로도 가능\n",
        "print(sr['a':'b'])    # 슬라이싱도 되는데\n",
        "print(sr[0:1])        # 정수 슬라이싱하면 마지막거는 제외\n",
        "\n",
        "print(sr[1])          # 하나만 불러올 수 있는데 이경우에는 value만 반환\n",
        "print(sr['b'])        # key이름으로도 불러올 수 있당"
      ],
      "execution_count": null,
      "outputs": []
    },
    {
      "cell_type": "markdown",
      "metadata": {
        "id": "9JoEu3sahKDT"
      },
      "source": [
        "### Series 연산"
      ]
    },
    {
      "cell_type": "code",
      "metadata": {
        "colab": {
          "base_uri": "https://localhost:8080/"
        },
        "id": "OqzXE6C8hN_o",
        "outputId": "22b143e4-83d1-4c93-9c55-8f0164e8e0d7"
      },
      "source": [
        "student1 = pd.Series({'국어':100, '영어':80, '수학':90})\n",
        "print(student1, '\\n')\n",
        "\n",
        "percentage = student1 / 200 #사칙연산 다된다\n",
        "\n",
        "print(percentage, '\\n')\n",
        "print(type(percentage))"
      ],
      "execution_count": 107,
      "outputs": [
        {
          "output_type": "stream",
          "text": [
            "국어    100\n",
            "영어     80\n",
            "수학     90\n",
            "dtype: int64 \n",
            "\n",
            "국어    0.50\n",
            "영어    0.40\n",
            "수학    0.45\n",
            "dtype: float64 \n",
            "\n",
            "<class 'pandas.core.series.Series'>\n"
          ],
          "name": "stdout"
        }
      ]
    },
    {
      "cell_type": "code",
      "metadata": {
        "colab": {
          "base_uri": "https://localhost:8080/",
          "height": 371
        },
        "id": "SLRPq6z1mrtP",
        "outputId": "0f4bc5c4-d8db-4875-9d5f-778b053f8191"
      },
      "source": [
        "#Series 와 Series간의 계산\n",
        "student1 = pd.Series({'국어':np.nan, '영어':80, '수학':90})\n",
        "student2 = pd.Series({'수학':80, '국어':90})\n",
        "\n",
        "print(student1)\n",
        "print('\\n')\n",
        "print(student2)\n",
        "print('\\n')\n",
        "\n",
        "# 두 학생의 과목별 점수로 사칙연산 수행 (연산 메소드 사용), NaN은 fill_value로 채워진다.\n",
        "sr_add = student1.add(student2, fill_value=0)    #덧셈\n",
        "sr_sub = student1.sub(student2, fill_value=0)    #뺄셈\n",
        "sr_mul = student1.mul(student2, fill_value=0)    #곱셈\n",
        "sr_div = student1.div(student2, fill_value=0)    #나눗셈\n",
        "result = pd.DataFrame([sr_add, sr_sub, sr_mul, sr_div], \n",
        "                      index=['덧셈', '뺄셈', '곱셈', '나눗셈'])\n",
        "result"
      ],
      "execution_count": 129,
      "outputs": [
        {
          "output_type": "stream",
          "text": [
            "국어     NaN\n",
            "영어    80.0\n",
            "수학    90.0\n",
            "dtype: float64\n",
            "\n",
            "\n",
            "수학    80\n",
            "국어    90\n",
            "dtype: int64\n",
            "\n",
            "\n"
          ],
          "name": "stdout"
        },
        {
          "output_type": "execute_result",
          "data": {
            "text/html": [
              "<div>\n",
              "<style scoped>\n",
              "    .dataframe tbody tr th:only-of-type {\n",
              "        vertical-align: middle;\n",
              "    }\n",
              "\n",
              "    .dataframe tbody tr th {\n",
              "        vertical-align: top;\n",
              "    }\n",
              "\n",
              "    .dataframe thead th {\n",
              "        text-align: right;\n",
              "    }\n",
              "</style>\n",
              "<table border=\"1\" class=\"dataframe\">\n",
              "  <thead>\n",
              "    <tr style=\"text-align: right;\">\n",
              "      <th></th>\n",
              "      <th>국어</th>\n",
              "      <th>수학</th>\n",
              "      <th>영어</th>\n",
              "    </tr>\n",
              "  </thead>\n",
              "  <tbody>\n",
              "    <tr>\n",
              "      <th>덧셈</th>\n",
              "      <td>90.0</td>\n",
              "      <td>170.000</td>\n",
              "      <td>80.0</td>\n",
              "    </tr>\n",
              "    <tr>\n",
              "      <th>뺄셈</th>\n",
              "      <td>-90.0</td>\n",
              "      <td>10.000</td>\n",
              "      <td>80.0</td>\n",
              "    </tr>\n",
              "    <tr>\n",
              "      <th>곱셈</th>\n",
              "      <td>0.0</td>\n",
              "      <td>7200.000</td>\n",
              "      <td>0.0</td>\n",
              "    </tr>\n",
              "    <tr>\n",
              "      <th>나눗셈</th>\n",
              "      <td>0.0</td>\n",
              "      <td>1.125</td>\n",
              "      <td>inf</td>\n",
              "    </tr>\n",
              "  </tbody>\n",
              "</table>\n",
              "</div>"
            ],
            "text/plain": [
              "       국어        수학    영어\n",
              "덧셈   90.0   170.000  80.0\n",
              "뺄셈  -90.0    10.000  80.0\n",
              "곱셈    0.0  7200.000   0.0\n",
              "나눗셈   0.0     1.125   inf"
            ]
          },
          "metadata": {
            "tags": []
          },
          "execution_count": 129
        }
      ]
    },
    {
      "cell_type": "markdown",
      "metadata": {
        "id": "RX_btZpcii_L"
      },
      "source": [
        "# DataFrame"
      ]
    },
    {
      "cell_type": "code",
      "metadata": {
        "colab": {
          "base_uri": "https://localhost:8080/"
        },
        "id": "uAvqtu-LHaVz",
        "outputId": "047d7662-1710-4b95-b563-33fe8b69de25"
      },
      "source": [
        "# https://pandas.pydata.org/pandas-docs/stable/reference/frame.html DataFrame의 Attributes 설명한 사이트\n",
        "\n",
        "import pandas as pd\n",
        "import seaborn as sns\n",
        "\n",
        "titanic = sns.load_dataset('titanic')\n",
        "df=titanic.loc[:,['sex','age','fare']]\n",
        "print(df)"
      ],
      "execution_count": 51,
      "outputs": [
        {
          "output_type": "stream",
          "text": [
            "        sex   age     fare\n",
            "0      male  22.0   7.2500\n",
            "1    female  38.0  71.2833\n",
            "2    female  26.0   7.9250\n",
            "3    female  35.0  53.1000\n",
            "4      male  35.0   8.0500\n",
            "..      ...   ...      ...\n",
            "886    male  27.0  13.0000\n",
            "887  female  19.0  30.0000\n",
            "888  female   NaN  23.4500\n",
            "889    male  26.0  30.0000\n",
            "890    male  32.0   7.7500\n",
            "\n",
            "[891 rows x 3 columns]\n"
          ],
          "name": "stdout"
        }
      ]
    },
    {
      "cell_type": "markdown",
      "metadata": {
        "id": "iV9NWpYYMpbU"
      },
      "source": [
        "### Dataframe Attributes 요약"
      ]
    },
    {
      "cell_type": "code",
      "metadata": {
        "id": "Mw1moPXgKQbo"
      },
      "source": [
        "print(df.size,'\\n') # df에 있는 원소의 총 개수를 반환\n",
        "print(df.index,'\\n')\n",
        "print(df.columns,'\\n')\n",
        "# print(df.values) <- Dataframe을 numpy 표현방식으로 반환\n",
        "print(df.axes,'\\n') #index, columns, dtype 반환\n",
        "print(df.ndim,'\\n') #최고 차원을 int로 반환\n",
        "print(df.shape,'\\n') #tuple형태로 dimensionality를 반환\n",
        "print(df.empty,'\\n') #df가 비어있는지 반환\n",
        "print(df.dtypes,'\\n') #df의 columns마다의 자료형 반환\n",
        "print(df.info, '\\n') #df의 요약본 반환"
      ],
      "execution_count": null,
      "outputs": []
    },
    {
      "cell_type": "markdown",
      "metadata": {
        "id": "Ksaq0IvRVs1N"
      },
      "source": [
        "### Dataframe 생성및 조작 방식"
      ]
    },
    {
      "cell_type": "code",
      "metadata": {
        "colab": {
          "base_uri": "https://localhost:8080/",
          "height": 111
        },
        "id": "AXCvRORNYYon",
        "outputId": "259c8234-de3e-448b-ba88-dc3f5a842abc"
      },
      "source": [
        "df4 = pd.DataFrame([[15, '남', '덕영중'], [17, '여', '수리중']], \n",
        "                   index=['준서', '예은'],\n",
        "                   columns=['나이', '성별', '학교']) # 2차원 배열을 넣고 index와 col을 설정하는 경우\n",
        "df4                   "
      ],
      "execution_count": 87,
      "outputs": [
        {
          "output_type": "execute_result",
          "data": {
            "text/html": [
              "<div>\n",
              "<style scoped>\n",
              "    .dataframe tbody tr th:only-of-type {\n",
              "        vertical-align: middle;\n",
              "    }\n",
              "\n",
              "    .dataframe tbody tr th {\n",
              "        vertical-align: top;\n",
              "    }\n",
              "\n",
              "    .dataframe thead th {\n",
              "        text-align: right;\n",
              "    }\n",
              "</style>\n",
              "<table border=\"1\" class=\"dataframe\">\n",
              "  <thead>\n",
              "    <tr style=\"text-align: right;\">\n",
              "      <th></th>\n",
              "      <th>나이</th>\n",
              "      <th>성별</th>\n",
              "      <th>학교</th>\n",
              "    </tr>\n",
              "  </thead>\n",
              "  <tbody>\n",
              "    <tr>\n",
              "      <th>준서</th>\n",
              "      <td>15</td>\n",
              "      <td>남</td>\n",
              "      <td>덕영중</td>\n",
              "    </tr>\n",
              "    <tr>\n",
              "      <th>예은</th>\n",
              "      <td>17</td>\n",
              "      <td>여</td>\n",
              "      <td>수리중</td>\n",
              "    </tr>\n",
              "  </tbody>\n",
              "</table>\n",
              "</div>"
            ],
            "text/plain": [
              "    나이 성별   학교\n",
              "준서  15  남  덕영중\n",
              "예은  17  여  수리중"
            ]
          },
          "metadata": {
            "tags": []
          },
          "execution_count": 87
        }
      ]
    },
    {
      "cell_type": "code",
      "metadata": {
        "colab": {
          "base_uri": "https://localhost:8080/",
          "height": 142
        },
        "id": "9rvwa-t5VwOV",
        "outputId": "afe214dd-386f-44f0-8f71-c3102f038916"
      },
      "source": [
        "exam_data = {'이름' : [ '서준', '우현', '인아'],\n",
        "             '수학' : [ 90, 80, 70],\n",
        "             '영어' : [ 98, 89, 95],\n",
        "             '음악' : [ 85, 95, 100],\n",
        "             '체육' : [ 100, 90, 90]} #딕셔너리를 넣는 경우 key값이 col, 인덱스는 0부터 매겨짐\n",
        "df2=pd.DataFrame(exam_data)\n",
        "df2"
      ],
      "execution_count": 90,
      "outputs": [
        {
          "output_type": "execute_result",
          "data": {
            "text/html": [
              "<div>\n",
              "<style scoped>\n",
              "    .dataframe tbody tr th:only-of-type {\n",
              "        vertical-align: middle;\n",
              "    }\n",
              "\n",
              "    .dataframe tbody tr th {\n",
              "        vertical-align: top;\n",
              "    }\n",
              "\n",
              "    .dataframe thead th {\n",
              "        text-align: right;\n",
              "    }\n",
              "</style>\n",
              "<table border=\"1\" class=\"dataframe\">\n",
              "  <thead>\n",
              "    <tr style=\"text-align: right;\">\n",
              "      <th></th>\n",
              "      <th>이름</th>\n",
              "      <th>수학</th>\n",
              "      <th>영어</th>\n",
              "      <th>음악</th>\n",
              "      <th>체육</th>\n",
              "    </tr>\n",
              "  </thead>\n",
              "  <tbody>\n",
              "    <tr>\n",
              "      <th>0</th>\n",
              "      <td>서준</td>\n",
              "      <td>90</td>\n",
              "      <td>98</td>\n",
              "      <td>85</td>\n",
              "      <td>100</td>\n",
              "    </tr>\n",
              "    <tr>\n",
              "      <th>1</th>\n",
              "      <td>우현</td>\n",
              "      <td>80</td>\n",
              "      <td>89</td>\n",
              "      <td>95</td>\n",
              "      <td>90</td>\n",
              "    </tr>\n",
              "    <tr>\n",
              "      <th>2</th>\n",
              "      <td>인아</td>\n",
              "      <td>70</td>\n",
              "      <td>95</td>\n",
              "      <td>100</td>\n",
              "      <td>90</td>\n",
              "    </tr>\n",
              "  </tbody>\n",
              "</table>\n",
              "</div>"
            ],
            "text/plain": [
              "   이름  수학  영어   음악   체육\n",
              "0  서준  90  98   85  100\n",
              "1  우현  80  89   95   90\n",
              "2  인아  70  95  100   90"
            ]
          },
          "metadata": {
            "tags": []
          },
          "execution_count": 90
        }
      ]
    },
    {
      "cell_type": "code",
      "metadata": {
        "colab": {
          "base_uri": "https://localhost:8080/",
          "height": 173
        },
        "id": "zRMd9VNIWC6a",
        "outputId": "537ecf1f-79c9-4327-d40c-0fbac2b29ef4"
      },
      "source": [
        "df2=df2.set_index('이름') #이런식으로 특정 col을 인덱스로 만들 수 있음. 참고로 inplace가 True여야 원본객체 변경\n",
        "df2"
      ],
      "execution_count": 91,
      "outputs": [
        {
          "output_type": "execute_result",
          "data": {
            "text/html": [
              "<div>\n",
              "<style scoped>\n",
              "    .dataframe tbody tr th:only-of-type {\n",
              "        vertical-align: middle;\n",
              "    }\n",
              "\n",
              "    .dataframe tbody tr th {\n",
              "        vertical-align: top;\n",
              "    }\n",
              "\n",
              "    .dataframe thead th {\n",
              "        text-align: right;\n",
              "    }\n",
              "</style>\n",
              "<table border=\"1\" class=\"dataframe\">\n",
              "  <thead>\n",
              "    <tr style=\"text-align: right;\">\n",
              "      <th></th>\n",
              "      <th>수학</th>\n",
              "      <th>영어</th>\n",
              "      <th>음악</th>\n",
              "      <th>체육</th>\n",
              "    </tr>\n",
              "    <tr>\n",
              "      <th>이름</th>\n",
              "      <th></th>\n",
              "      <th></th>\n",
              "      <th></th>\n",
              "      <th></th>\n",
              "    </tr>\n",
              "  </thead>\n",
              "  <tbody>\n",
              "    <tr>\n",
              "      <th>서준</th>\n",
              "      <td>90</td>\n",
              "      <td>98</td>\n",
              "      <td>85</td>\n",
              "      <td>100</td>\n",
              "    </tr>\n",
              "    <tr>\n",
              "      <th>우현</th>\n",
              "      <td>80</td>\n",
              "      <td>89</td>\n",
              "      <td>95</td>\n",
              "      <td>90</td>\n",
              "    </tr>\n",
              "    <tr>\n",
              "      <th>인아</th>\n",
              "      <td>70</td>\n",
              "      <td>95</td>\n",
              "      <td>100</td>\n",
              "      <td>90</td>\n",
              "    </tr>\n",
              "  </tbody>\n",
              "</table>\n",
              "</div>"
            ],
            "text/plain": [
              "    수학  영어   음악   체육\n",
              "이름                  \n",
              "서준  90  98   85  100\n",
              "우현  80  89   95   90\n",
              "인아  70  95  100   90"
            ]
          },
          "metadata": {
            "tags": []
          },
          "execution_count": 91
        }
      ]
    },
    {
      "cell_type": "code",
      "metadata": {
        "colab": {
          "base_uri": "https://localhost:8080/",
          "height": 204
        },
        "id": "ZvbAemlpXMQq",
        "outputId": "4db456ea-65f9-4043-ccec-3adcb9a43770"
      },
      "source": [
        "df2.loc['ㅁㄴㅇㄹ']=[100,100,100,100] # loc 으로 행 추가 가능 (iloc은 안됨)\n",
        "df2"
      ],
      "execution_count": 92,
      "outputs": [
        {
          "output_type": "execute_result",
          "data": {
            "text/html": [
              "<div>\n",
              "<style scoped>\n",
              "    .dataframe tbody tr th:only-of-type {\n",
              "        vertical-align: middle;\n",
              "    }\n",
              "\n",
              "    .dataframe tbody tr th {\n",
              "        vertical-align: top;\n",
              "    }\n",
              "\n",
              "    .dataframe thead th {\n",
              "        text-align: right;\n",
              "    }\n",
              "</style>\n",
              "<table border=\"1\" class=\"dataframe\">\n",
              "  <thead>\n",
              "    <tr style=\"text-align: right;\">\n",
              "      <th></th>\n",
              "      <th>수학</th>\n",
              "      <th>영어</th>\n",
              "      <th>음악</th>\n",
              "      <th>체육</th>\n",
              "    </tr>\n",
              "    <tr>\n",
              "      <th>이름</th>\n",
              "      <th></th>\n",
              "      <th></th>\n",
              "      <th></th>\n",
              "      <th></th>\n",
              "    </tr>\n",
              "  </thead>\n",
              "  <tbody>\n",
              "    <tr>\n",
              "      <th>서준</th>\n",
              "      <td>90</td>\n",
              "      <td>98</td>\n",
              "      <td>85</td>\n",
              "      <td>100</td>\n",
              "    </tr>\n",
              "    <tr>\n",
              "      <th>우현</th>\n",
              "      <td>80</td>\n",
              "      <td>89</td>\n",
              "      <td>95</td>\n",
              "      <td>90</td>\n",
              "    </tr>\n",
              "    <tr>\n",
              "      <th>인아</th>\n",
              "      <td>70</td>\n",
              "      <td>95</td>\n",
              "      <td>100</td>\n",
              "      <td>90</td>\n",
              "    </tr>\n",
              "    <tr>\n",
              "      <th>ㅁㄴㅇㄹ</th>\n",
              "      <td>100</td>\n",
              "      <td>100</td>\n",
              "      <td>100</td>\n",
              "      <td>100</td>\n",
              "    </tr>\n",
              "  </tbody>\n",
              "</table>\n",
              "</div>"
            ],
            "text/plain": [
              "       수학   영어   음악   체육\n",
              "이름                      \n",
              "서준     90   98   85  100\n",
              "우현     80   89   95   90\n",
              "인아     70   95  100   90\n",
              "ㅁㄴㅇㄹ  100  100  100  100"
            ]
          },
          "metadata": {
            "tags": []
          },
          "execution_count": 92
        }
      ]
    },
    {
      "cell_type": "code",
      "metadata": {
        "colab": {
          "base_uri": "https://localhost:8080/",
          "height": 204
        },
        "id": "diUNwhMmZ6-t",
        "outputId": "5ca92c00-8293-48fe-c0e9-c8c5f5c127d5"
      },
      "source": [
        "df2['컴퓨터']=[100,100,100,100] #df['열이름'] =[리스트]로 열 추가 가능\n",
        "df2"
      ],
      "execution_count": 93,
      "outputs": [
        {
          "output_type": "execute_result",
          "data": {
            "text/html": [
              "<div>\n",
              "<style scoped>\n",
              "    .dataframe tbody tr th:only-of-type {\n",
              "        vertical-align: middle;\n",
              "    }\n",
              "\n",
              "    .dataframe tbody tr th {\n",
              "        vertical-align: top;\n",
              "    }\n",
              "\n",
              "    .dataframe thead th {\n",
              "        text-align: right;\n",
              "    }\n",
              "</style>\n",
              "<table border=\"1\" class=\"dataframe\">\n",
              "  <thead>\n",
              "    <tr style=\"text-align: right;\">\n",
              "      <th></th>\n",
              "      <th>수학</th>\n",
              "      <th>영어</th>\n",
              "      <th>음악</th>\n",
              "      <th>체육</th>\n",
              "      <th>컴퓨터</th>\n",
              "    </tr>\n",
              "    <tr>\n",
              "      <th>이름</th>\n",
              "      <th></th>\n",
              "      <th></th>\n",
              "      <th></th>\n",
              "      <th></th>\n",
              "      <th></th>\n",
              "    </tr>\n",
              "  </thead>\n",
              "  <tbody>\n",
              "    <tr>\n",
              "      <th>서준</th>\n",
              "      <td>90</td>\n",
              "      <td>98</td>\n",
              "      <td>85</td>\n",
              "      <td>100</td>\n",
              "      <td>100</td>\n",
              "    </tr>\n",
              "    <tr>\n",
              "      <th>우현</th>\n",
              "      <td>80</td>\n",
              "      <td>89</td>\n",
              "      <td>95</td>\n",
              "      <td>90</td>\n",
              "      <td>100</td>\n",
              "    </tr>\n",
              "    <tr>\n",
              "      <th>인아</th>\n",
              "      <td>70</td>\n",
              "      <td>95</td>\n",
              "      <td>100</td>\n",
              "      <td>90</td>\n",
              "      <td>100</td>\n",
              "    </tr>\n",
              "    <tr>\n",
              "      <th>ㅁㄴㅇㄹ</th>\n",
              "      <td>100</td>\n",
              "      <td>100</td>\n",
              "      <td>100</td>\n",
              "      <td>100</td>\n",
              "      <td>100</td>\n",
              "    </tr>\n",
              "  </tbody>\n",
              "</table>\n",
              "</div>"
            ],
            "text/plain": [
              "       수학   영어   음악   체육  컴퓨터\n",
              "이름                           \n",
              "서준     90   98   85  100  100\n",
              "우현     80   89   95   90  100\n",
              "인아     70   95  100   90  100\n",
              "ㅁㄴㅇㄹ  100  100  100  100  100"
            ]
          },
          "metadata": {
            "tags": []
          },
          "execution_count": 93
        }
      ]
    },
    {
      "cell_type": "code",
      "metadata": {
        "colab": {
          "base_uri": "https://localhost:8080/",
          "height": 204
        },
        "id": "8WrrvCTvX40L",
        "outputId": "08bd4826-7a93-409f-81b8-8eb01664d59c"
      },
      "source": [
        "df3=df2.transpose() #전치 행렬 객체를 만들어 반환\n",
        "df3"
      ],
      "execution_count": 94,
      "outputs": [
        {
          "output_type": "execute_result",
          "data": {
            "text/html": [
              "<div>\n",
              "<style scoped>\n",
              "    .dataframe tbody tr th:only-of-type {\n",
              "        vertical-align: middle;\n",
              "    }\n",
              "\n",
              "    .dataframe tbody tr th {\n",
              "        vertical-align: top;\n",
              "    }\n",
              "\n",
              "    .dataframe thead th {\n",
              "        text-align: right;\n",
              "    }\n",
              "</style>\n",
              "<table border=\"1\" class=\"dataframe\">\n",
              "  <thead>\n",
              "    <tr style=\"text-align: right;\">\n",
              "      <th>이름</th>\n",
              "      <th>서준</th>\n",
              "      <th>우현</th>\n",
              "      <th>인아</th>\n",
              "      <th>ㅁㄴㅇㄹ</th>\n",
              "    </tr>\n",
              "  </thead>\n",
              "  <tbody>\n",
              "    <tr>\n",
              "      <th>수학</th>\n",
              "      <td>90</td>\n",
              "      <td>80</td>\n",
              "      <td>70</td>\n",
              "      <td>100</td>\n",
              "    </tr>\n",
              "    <tr>\n",
              "      <th>영어</th>\n",
              "      <td>98</td>\n",
              "      <td>89</td>\n",
              "      <td>95</td>\n",
              "      <td>100</td>\n",
              "    </tr>\n",
              "    <tr>\n",
              "      <th>음악</th>\n",
              "      <td>85</td>\n",
              "      <td>95</td>\n",
              "      <td>100</td>\n",
              "      <td>100</td>\n",
              "    </tr>\n",
              "    <tr>\n",
              "      <th>체육</th>\n",
              "      <td>100</td>\n",
              "      <td>90</td>\n",
              "      <td>90</td>\n",
              "      <td>100</td>\n",
              "    </tr>\n",
              "    <tr>\n",
              "      <th>컴퓨터</th>\n",
              "      <td>100</td>\n",
              "      <td>100</td>\n",
              "      <td>100</td>\n",
              "      <td>100</td>\n",
              "    </tr>\n",
              "  </tbody>\n",
              "</table>\n",
              "</div>"
            ],
            "text/plain": [
              "이름    서준   우현   인아  ㅁㄴㅇㄹ\n",
              "수학    90   80   70   100\n",
              "영어    98   89   95   100\n",
              "음악    85   95  100   100\n",
              "체육   100   90   90   100\n",
              "컴퓨터  100  100  100   100"
            ]
          },
          "metadata": {
            "tags": []
          },
          "execution_count": 94
        }
      ]
    },
    {
      "cell_type": "code",
      "metadata": {
        "colab": {
          "base_uri": "https://localhost:8080/",
          "height": 173
        },
        "id": "Rz4daPTvathl",
        "outputId": "ea67340d-8d24-4259-875e-ed9c1a730ca4"
      },
      "source": [
        "df2=df2.drop('서준',axis=0) #인덱스를 기준으로 데이터 삭제 방식 \n",
        "df2"
      ],
      "execution_count": 95,
      "outputs": [
        {
          "output_type": "execute_result",
          "data": {
            "text/html": [
              "<div>\n",
              "<style scoped>\n",
              "    .dataframe tbody tr th:only-of-type {\n",
              "        vertical-align: middle;\n",
              "    }\n",
              "\n",
              "    .dataframe tbody tr th {\n",
              "        vertical-align: top;\n",
              "    }\n",
              "\n",
              "    .dataframe thead th {\n",
              "        text-align: right;\n",
              "    }\n",
              "</style>\n",
              "<table border=\"1\" class=\"dataframe\">\n",
              "  <thead>\n",
              "    <tr style=\"text-align: right;\">\n",
              "      <th></th>\n",
              "      <th>수학</th>\n",
              "      <th>영어</th>\n",
              "      <th>음악</th>\n",
              "      <th>체육</th>\n",
              "      <th>컴퓨터</th>\n",
              "    </tr>\n",
              "    <tr>\n",
              "      <th>이름</th>\n",
              "      <th></th>\n",
              "      <th></th>\n",
              "      <th></th>\n",
              "      <th></th>\n",
              "      <th></th>\n",
              "    </tr>\n",
              "  </thead>\n",
              "  <tbody>\n",
              "    <tr>\n",
              "      <th>우현</th>\n",
              "      <td>80</td>\n",
              "      <td>89</td>\n",
              "      <td>95</td>\n",
              "      <td>90</td>\n",
              "      <td>100</td>\n",
              "    </tr>\n",
              "    <tr>\n",
              "      <th>인아</th>\n",
              "      <td>70</td>\n",
              "      <td>95</td>\n",
              "      <td>100</td>\n",
              "      <td>90</td>\n",
              "      <td>100</td>\n",
              "    </tr>\n",
              "    <tr>\n",
              "      <th>ㅁㄴㅇㄹ</th>\n",
              "      <td>100</td>\n",
              "      <td>100</td>\n",
              "      <td>100</td>\n",
              "      <td>100</td>\n",
              "      <td>100</td>\n",
              "    </tr>\n",
              "  </tbody>\n",
              "</table>\n",
              "</div>"
            ],
            "text/plain": [
              "       수학   영어   음악   체육  컴퓨터\n",
              "이름                           \n",
              "우현     80   89   95   90  100\n",
              "인아     70   95  100   90  100\n",
              "ㅁㄴㅇㄹ  100  100  100  100  100"
            ]
          },
          "metadata": {
            "tags": []
          },
          "execution_count": 95
        }
      ]
    },
    {
      "cell_type": "code",
      "metadata": {
        "colab": {
          "base_uri": "https://localhost:8080/",
          "height": 173
        },
        "id": "DK8n_VK-a4io",
        "outputId": "d2d2ae26-455e-44a1-bf75-3ac438460d93"
      },
      "source": [
        "df2=df2.drop('컴퓨터',axis=1) #col을 기준으로 데이터 삭제 방식 \n",
        "df2"
      ],
      "execution_count": 96,
      "outputs": [
        {
          "output_type": "execute_result",
          "data": {
            "text/html": [
              "<div>\n",
              "<style scoped>\n",
              "    .dataframe tbody tr th:only-of-type {\n",
              "        vertical-align: middle;\n",
              "    }\n",
              "\n",
              "    .dataframe tbody tr th {\n",
              "        vertical-align: top;\n",
              "    }\n",
              "\n",
              "    .dataframe thead th {\n",
              "        text-align: right;\n",
              "    }\n",
              "</style>\n",
              "<table border=\"1\" class=\"dataframe\">\n",
              "  <thead>\n",
              "    <tr style=\"text-align: right;\">\n",
              "      <th></th>\n",
              "      <th>수학</th>\n",
              "      <th>영어</th>\n",
              "      <th>음악</th>\n",
              "      <th>체육</th>\n",
              "    </tr>\n",
              "    <tr>\n",
              "      <th>이름</th>\n",
              "      <th></th>\n",
              "      <th></th>\n",
              "      <th></th>\n",
              "      <th></th>\n",
              "    </tr>\n",
              "  </thead>\n",
              "  <tbody>\n",
              "    <tr>\n",
              "      <th>우현</th>\n",
              "      <td>80</td>\n",
              "      <td>89</td>\n",
              "      <td>95</td>\n",
              "      <td>90</td>\n",
              "    </tr>\n",
              "    <tr>\n",
              "      <th>인아</th>\n",
              "      <td>70</td>\n",
              "      <td>95</td>\n",
              "      <td>100</td>\n",
              "      <td>90</td>\n",
              "    </tr>\n",
              "    <tr>\n",
              "      <th>ㅁㄴㅇㄹ</th>\n",
              "      <td>100</td>\n",
              "      <td>100</td>\n",
              "      <td>100</td>\n",
              "      <td>100</td>\n",
              "    </tr>\n",
              "  </tbody>\n",
              "</table>\n",
              "</div>"
            ],
            "text/plain": [
              "       수학   영어   음악   체육\n",
              "이름                      \n",
              "우현     80   89   95   90\n",
              "인아     70   95  100   90\n",
              "ㅁㄴㅇㄹ  100  100  100  100"
            ]
          },
          "metadata": {
            "tags": []
          },
          "execution_count": 96
        }
      ]
    },
    {
      "cell_type": "code",
      "metadata": {
        "colab": {
          "base_uri": "https://localhost:8080/",
          "height": 173
        },
        "id": "QjCPEhZuel-Q",
        "outputId": "c0b44b23-27c8-4f88-b697-9934db596c5d"
      },
      "source": [
        "#새로운 배열로 현재 인덱스 순서를 바꿀 수 있음. 있던게 없어질 수 있고 없던게 생기면 NaN으로 초기화\n",
        "df2.reindex(['서준','인아','우현'],fill_value=0) #NaN이 싫다면 'fill_value' 설정"
      ],
      "execution_count": 101,
      "outputs": [
        {
          "output_type": "execute_result",
          "data": {
            "text/html": [
              "<div>\n",
              "<style scoped>\n",
              "    .dataframe tbody tr th:only-of-type {\n",
              "        vertical-align: middle;\n",
              "    }\n",
              "\n",
              "    .dataframe tbody tr th {\n",
              "        vertical-align: top;\n",
              "    }\n",
              "\n",
              "    .dataframe thead th {\n",
              "        text-align: right;\n",
              "    }\n",
              "</style>\n",
              "<table border=\"1\" class=\"dataframe\">\n",
              "  <thead>\n",
              "    <tr style=\"text-align: right;\">\n",
              "      <th></th>\n",
              "      <th>수학</th>\n",
              "      <th>영어</th>\n",
              "      <th>음악</th>\n",
              "      <th>체육</th>\n",
              "    </tr>\n",
              "    <tr>\n",
              "      <th>이름</th>\n",
              "      <th></th>\n",
              "      <th></th>\n",
              "      <th></th>\n",
              "      <th></th>\n",
              "    </tr>\n",
              "  </thead>\n",
              "  <tbody>\n",
              "    <tr>\n",
              "      <th>서준</th>\n",
              "      <td>0</td>\n",
              "      <td>0</td>\n",
              "      <td>0</td>\n",
              "      <td>0</td>\n",
              "    </tr>\n",
              "    <tr>\n",
              "      <th>인아</th>\n",
              "      <td>70</td>\n",
              "      <td>95</td>\n",
              "      <td>100</td>\n",
              "      <td>90</td>\n",
              "    </tr>\n",
              "    <tr>\n",
              "      <th>우현</th>\n",
              "      <td>80</td>\n",
              "      <td>89</td>\n",
              "      <td>95</td>\n",
              "      <td>90</td>\n",
              "    </tr>\n",
              "  </tbody>\n",
              "</table>\n",
              "</div>"
            ],
            "text/plain": [
              "    수학  영어   음악  체육\n",
              "이름                 \n",
              "서준   0   0    0   0\n",
              "인아  70  95  100  90\n",
              "우현  80  89   95  90"
            ]
          },
          "metadata": {
            "tags": []
          },
          "execution_count": 101
        }
      ]
    },
    {
      "cell_type": "code",
      "metadata": {
        "colab": {
          "base_uri": "https://localhost:8080/",
          "height": 142
        },
        "id": "su3LcK0NgFT3",
        "outputId": "613cb25e-4127-4a14-a231-1f217af2c4bd"
      },
      "source": [
        "df2.reset_index() #인덱스를 정수형 위치 인덱스로 초기화"
      ],
      "execution_count": 102,
      "outputs": [
        {
          "output_type": "execute_result",
          "data": {
            "text/html": [
              "<div>\n",
              "<style scoped>\n",
              "    .dataframe tbody tr th:only-of-type {\n",
              "        vertical-align: middle;\n",
              "    }\n",
              "\n",
              "    .dataframe tbody tr th {\n",
              "        vertical-align: top;\n",
              "    }\n",
              "\n",
              "    .dataframe thead th {\n",
              "        text-align: right;\n",
              "    }\n",
              "</style>\n",
              "<table border=\"1\" class=\"dataframe\">\n",
              "  <thead>\n",
              "    <tr style=\"text-align: right;\">\n",
              "      <th></th>\n",
              "      <th>이름</th>\n",
              "      <th>수학</th>\n",
              "      <th>영어</th>\n",
              "      <th>음악</th>\n",
              "      <th>체육</th>\n",
              "    </tr>\n",
              "  </thead>\n",
              "  <tbody>\n",
              "    <tr>\n",
              "      <th>0</th>\n",
              "      <td>우현</td>\n",
              "      <td>80</td>\n",
              "      <td>89</td>\n",
              "      <td>95</td>\n",
              "      <td>90</td>\n",
              "    </tr>\n",
              "    <tr>\n",
              "      <th>1</th>\n",
              "      <td>인아</td>\n",
              "      <td>70</td>\n",
              "      <td>95</td>\n",
              "      <td>100</td>\n",
              "      <td>90</td>\n",
              "    </tr>\n",
              "    <tr>\n",
              "      <th>2</th>\n",
              "      <td>ㅁㄴㅇㄹ</td>\n",
              "      <td>100</td>\n",
              "      <td>100</td>\n",
              "      <td>100</td>\n",
              "      <td>100</td>\n",
              "    </tr>\n",
              "  </tbody>\n",
              "</table>\n",
              "</div>"
            ],
            "text/plain": [
              "     이름   수학   영어   음악   체육\n",
              "0    우현   80   89   95   90\n",
              "1    인아   70   95  100   90\n",
              "2  ㅁㄴㅇㄹ  100  100  100  100"
            ]
          },
          "metadata": {
            "tags": []
          },
          "execution_count": 102
        }
      ]
    },
    {
      "cell_type": "code",
      "metadata": {
        "colab": {
          "base_uri": "https://localhost:8080/",
          "height": 173
        },
        "id": "hKbNkypBgy6q",
        "outputId": "99d9e8cf-5686-404e-af61-51061227b952"
      },
      "source": [
        "df2.sort_index(ascending=True) #인덱스를 오름차순으로 정렬 (False이면 내림차순)"
      ],
      "execution_count": 106,
      "outputs": [
        {
          "output_type": "execute_result",
          "data": {
            "text/html": [
              "<div>\n",
              "<style scoped>\n",
              "    .dataframe tbody tr th:only-of-type {\n",
              "        vertical-align: middle;\n",
              "    }\n",
              "\n",
              "    .dataframe tbody tr th {\n",
              "        vertical-align: top;\n",
              "    }\n",
              "\n",
              "    .dataframe thead th {\n",
              "        text-align: right;\n",
              "    }\n",
              "</style>\n",
              "<table border=\"1\" class=\"dataframe\">\n",
              "  <thead>\n",
              "    <tr style=\"text-align: right;\">\n",
              "      <th></th>\n",
              "      <th>수학</th>\n",
              "      <th>영어</th>\n",
              "      <th>음악</th>\n",
              "      <th>체육</th>\n",
              "    </tr>\n",
              "    <tr>\n",
              "      <th>이름</th>\n",
              "      <th></th>\n",
              "      <th></th>\n",
              "      <th></th>\n",
              "      <th></th>\n",
              "    </tr>\n",
              "  </thead>\n",
              "  <tbody>\n",
              "    <tr>\n",
              "      <th>인아</th>\n",
              "      <td>70</td>\n",
              "      <td>95</td>\n",
              "      <td>100</td>\n",
              "      <td>90</td>\n",
              "    </tr>\n",
              "    <tr>\n",
              "      <th>우현</th>\n",
              "      <td>80</td>\n",
              "      <td>89</td>\n",
              "      <td>95</td>\n",
              "      <td>90</td>\n",
              "    </tr>\n",
              "    <tr>\n",
              "      <th>ㅁㄴㅇㄹ</th>\n",
              "      <td>100</td>\n",
              "      <td>100</td>\n",
              "      <td>100</td>\n",
              "      <td>100</td>\n",
              "    </tr>\n",
              "  </tbody>\n",
              "</table>\n",
              "</div>"
            ],
            "text/plain": [
              "       수학   영어   음악   체육\n",
              "이름                      \n",
              "인아     70   95  100   90\n",
              "우현     80   89   95   90\n",
              "ㅁㄴㅇㄹ  100  100  100  100"
            ]
          },
          "metadata": {
            "tags": []
          },
          "execution_count": 106
        }
      ]
    },
    {
      "cell_type": "markdown",
      "metadata": {
        "id": "xSGKug4pU9U3"
      },
      "source": [
        "### 행(인덱스), 열 선택"
      ]
    },
    {
      "cell_type": "code",
      "metadata": {
        "colab": {
          "base_uri": "https://localhost:8080/"
        },
        "id": "-ZXQsqLENPi0",
        "outputId": "f5c1e5a9-b4b9-4d17-a640-93e8c01cacde"
      },
      "source": [
        "print(df.loc[0:5],'\\n') # 인덱스의 이름으로 선택한 경우\n",
        "print(df.iloc[0:5]) # 인덱스 범위로 선택한 경우 (마지막 자료는 선택안됨)"
      ],
      "execution_count": 52,
      "outputs": [
        {
          "output_type": "stream",
          "text": [
            "      sex   age     fare\n",
            "0    male  22.0   7.2500\n",
            "1  female  38.0  71.2833\n",
            "2  female  26.0   7.9250\n",
            "3  female  35.0  53.1000\n",
            "4    male  35.0   8.0500\n",
            "5    male   NaN   8.4583 \n",
            "\n",
            "      sex   age     fare\n",
            "0    male  22.0   7.2500\n",
            "1  female  38.0  71.2833\n",
            "2  female  26.0   7.9250\n",
            "3  female  35.0  53.1000\n",
            "4    male  35.0   8.0500\n"
          ],
          "name": "stdout"
        }
      ]
    },
    {
      "cell_type": "code",
      "metadata": {
        "id": "AOpp1qVGNyf6"
      },
      "source": [
        "print(df.loc[0:5,'age':'fare'])   # col을 슬라이싱하는 경우\n",
        "print(df.loc[0:5,['fare','sex']]) # col을 리스트로 받는 경우 (순서상관X)"
      ],
      "execution_count": null,
      "outputs": []
    },
    {
      "cell_type": "code",
      "metadata": {
        "id": "esPOGuG2VlG_"
      },
      "source": [
        "# 열을 선택해서 보는 방식\n",
        "print(df.age)\n",
        "print(df['age'])"
      ],
      "execution_count": null,
      "outputs": []
    },
    {
      "cell_type": "markdown",
      "metadata": {
        "id": "SXUBHqaQnP2Z"
      },
      "source": [
        "### DataFrame 연산"
      ]
    },
    {
      "cell_type": "code",
      "metadata": {
        "colab": {
          "base_uri": "https://localhost:8080/"
        },
        "id": "1KiLKotgoIsX",
        "outputId": "0b2d342b-48ec-4fa5-f4bc-6cc35afa1f49"
      },
      "source": [
        "# 만약 Dataframe에 NaN이 존재한다면 무슨 연산을 하더라도 NaN처리된다\n",
        "\n",
        "titanic = sns.load_dataset('titanic')\n",
        "dft = titanic.loc[:, ['age','fare']]\n",
        "print(\"dft\\n\",dft.tail(),'\\n')     \n",
        "\n",
        "# 데이터프레임에 숫자 10 더하기\n",
        "addition = dft + 10\n",
        "print(\"addition= (dft + 10) \\n\",addition.tail(),'\\n')\n",
        "\n",
        "# 데이터프레임끼리 연산하기 (additon - dft)\n",
        "subtraction = addition - dft\n",
        "print(\"subtraction = (addition - dft) \\n\",subtraction.tail(),'\\n')"
      ],
      "execution_count": 141,
      "outputs": [
        {
          "output_type": "stream",
          "text": [
            "dft\n",
            "       age   fare\n",
            "886  27.0  13.00\n",
            "887  19.0  30.00\n",
            "888   NaN  23.45\n",
            "889  26.0  30.00\n",
            "890  32.0   7.75 \n",
            "\n",
            "addition= (dft + 10) \n",
            "       age   fare\n",
            "886  37.0  23.00\n",
            "887  29.0  40.00\n",
            "888   NaN  33.45\n",
            "889  36.0  40.00\n",
            "890  42.0  17.75 \n",
            "\n",
            "subtraction = (addition - dft) \n",
            "       age  fare\n",
            "886  10.0  10.0\n",
            "887  10.0  10.0\n",
            "888   NaN  10.0\n",
            "889  10.0  10.0\n",
            "890  10.0  10.0 \n",
            "\n"
          ],
          "name": "stdout"
        }
      ]
    }
  ]
}