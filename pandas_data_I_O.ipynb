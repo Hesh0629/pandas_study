{
  "nbformat": 4,
  "nbformat_minor": 0,
  "metadata": {
    "colab": {
      "name": "pandas_data_I/O.ipynb",
      "provenance": [],
      "mount_file_id": "1C_Ef0MOktDnIucrsVtbaO-d5za2VWJDH",
      "authorship_tag": "ABX9TyN5gs8XaiWjqKp4vzB/x3+k",
      "include_colab_link": true
    },
    "kernelspec": {
      "name": "python3",
      "display_name": "Python 3"
    },
    "language_info": {
      "name": "python"
    }
  },
  "cells": [
    {
      "cell_type": "markdown",
      "metadata": {
        "id": "view-in-github",
        "colab_type": "text"
      },
      "source": [
        "<a href=\"https://colab.research.google.com/github/Hesh0629/pandas_study/blob/main/pandas_data_I_O.ipynb\" target=\"_parent\"><img src=\"https://colab.research.google.com/assets/colab-badge.svg\" alt=\"Open In Colab\"/></a>"
      ]
    },
    {
      "cell_type": "code",
      "metadata": {
        "id": "MI0sir8p-E0A"
      },
      "source": [
        "import os, sys\n",
        "import pandas as pd\n",
        "\n",
        "sys.path.insert(0, '/content/drive/MyDrive/additional_package')"
      ],
      "execution_count": 1,
      "outputs": []
    },
    {
      "cell_type": "markdown",
      "metadata": {
        "id": "lDlxQpiIqT5k"
      },
      "source": [
        "# CSV 파일에서 불러오기"
      ]
    },
    {
      "cell_type": "code",
      "metadata": {
        "id": "G1uCIAS6nwRo"
      },
      "source": [
        "file_path = '/content/drive/MyDrive/read_csv_sample.csv'"
      ],
      "execution_count": null,
      "outputs": []
    },
    {
      "cell_type": "code",
      "metadata": {
        "colab": {
          "base_uri": "https://localhost:8080/"
        },
        "id": "E2azjAh8pyOb",
        "outputId": "afeb9038-b390-47a4-b2d8-07b53b82aec4"
      },
      "source": [
        "# file_path에 파일 경로를 저장하고 read_csv를 통하여 Dataframe 형성\n",
        "df1 = pd.read_csv(file_path)\n",
        "print(df1)"
      ],
      "execution_count": null,
      "outputs": [
        {
          "output_type": "stream",
          "text": [
            "   c0  c1  c2  c3\n",
            "0   0   1   4   7\n",
            "1   1   2   5   8\n",
            "2   2   3   6   9\n"
          ],
          "name": "stdout"
        }
      ]
    },
    {
      "cell_type": "code",
      "metadata": {
        "colab": {
          "base_uri": "https://localhost:8080/"
        },
        "id": "o4PWLuEVp-k7",
        "outputId": "bb8e60fc-6624-477a-c19a-4786f61a5932"
      },
      "source": [
        "# hader = None으로 설정하면 첫 행부터 DF에 포함, 아닐경우 첫 행 = 열 이름 \n",
        "df2 = pd.read_csv(file_path,header=None)\n",
        "print(df2)"
      ],
      "execution_count": null,
      "outputs": [
        {
          "output_type": "stream",
          "text": [
            "    0   1   2   3\n",
            "0  c0  c1  c2  c3\n",
            "1   0   1   4   7\n",
            "2   1   2   5   8\n",
            "3   2   3   6   9\n"
          ],
          "name": "stdout"
        }
      ]
    },
    {
      "cell_type": "code",
      "metadata": {
        "colab": {
          "base_uri": "https://localhost:8080/"
        },
        "id": "Mio0TXZrqnlu",
        "outputId": "30d1b03f-b5c1-4b2d-fe9e-7f62fb0c7b5d"
      },
      "source": [
        "# index_col을 통하여 인덱스가 될 col 선정 가능\n",
        "df3 = pd.read_csv(file_path,index_col='c1')\n",
        "print(df3)"
      ],
      "execution_count": null,
      "outputs": [
        {
          "output_type": "stream",
          "text": [
            "    c0  c2  c3\n",
            "c1            \n",
            "1    0   4   7\n",
            "2    1   5   8\n",
            "3    2   6   9\n"
          ],
          "name": "stdout"
        }
      ]
    },
    {
      "cell_type": "code",
      "metadata": {
        "colab": {
          "base_uri": "https://localhost:8080/"
        },
        "id": "gWDypopurJzG",
        "outputId": "76fdb957-bf85-44f1-8e2c-905668881c2f"
      },
      "source": [
        "# 이 파일에서 구분자(sep, delimiter)는 쉼표임. 이에 맞게 설정해야함\n",
        "df4 = pd.read_csv(file_path,sep=' ')\n",
        "print(df4)"
      ],
      "execution_count": null,
      "outputs": [
        {
          "output_type": "stream",
          "text": [
            "  c0,c1,c2,c3\n",
            "0     0,1,4,7\n",
            "1     1,2,5,8\n",
            "2     2,3,6,9\n"
          ],
          "name": "stdout"
        }
      ]
    },
    {
      "cell_type": "markdown",
      "metadata": {
        "id": "Vdkcfc3Wse-p"
      },
      "source": [
        "# JSON 파일에서 불러오기\n",
        "JSON 파일은 attribute-value pairs 또는 key - value pair등 데이터 오브젝트를 전달하기 위한 포멧임 (from wiki docs)  \n",
        "ex)  \n",
        " {  \n",
        "     \"이름\": \"홍길동\",  \n",
        "     \"나이\": 25,  \n",
        "     \"성별\": \"여\",  \n",
        "     \"주소\": \"서울특별시 양천구 목동\",  \n",
        "     \"특기\": [\"농구\", \"도술\"],  \n",
        "     \"가족관계\": {\"#\": 2, \"아버지\": \"홍판서\",   \"어머니\": \"춘섬\"},  \n",
        "     \"회사\": \"경기 수원시 팔달구 우만동\"  \n",
        " }"
      ]
    },
    {
      "cell_type": "code",
      "metadata": {
        "id": "oSI_AukltOZb"
      },
      "source": [
        "# https://pandas.pydata.org/pandas-docs/stable/reference/api/pandas.read_json.html\n",
        "# 불러오는 건 별거 없는듯 "
      ],
      "execution_count": null,
      "outputs": []
    },
    {
      "cell_type": "code",
      "metadata": {
        "colab": {
          "base_uri": "https://localhost:8080/"
        },
        "id": "5kddmoLluv2i",
        "outputId": "e300c65b-75e2-4fd0-cc38-c239abf341c8"
      },
      "source": [
        "json_path = '/content/drive/MyDrive/read_json_sample.json'\n",
        "df_json=pd.read_json(json_path)\n",
        "print(df_json)"
      ],
      "execution_count": null,
      "outputs": [
        {
          "output_type": "stream",
          "text": [
            "           name  year        developer opensource\n",
            "pandas           2008    Wes Mckinneye       True\n",
            "NumPy            2006  Travis Oliphant       True\n",
            "matplotlib       2003   John D. Hunter       True\n"
          ],
          "name": "stdout"
        }
      ]
    },
    {
      "cell_type": "markdown",
      "metadata": {
        "id": "76NVDY2lw0vU"
      },
      "source": [
        "# API 활용하여 데이터 불러오기\n",
        "구글 지오코딩 API키 유출금지  \n",
        "ref : https://velog.io/@konh2e/Googlemaps-Geocoding-API-%EC%82%AC%EC%9A%A9%EB%B2%95"
      ]
    },
    {
      "cell_type": "code",
      "metadata": {
        "colab": {
          "base_uri": "https://localhost:8080/"
        },
        "id": "_pQZWx3qw6ge",
        "outputId": "49b104e6-8fdb-4596-9f46-98667dd3567d"
      },
      "source": [
        "import googlemaps\n",
        "my_key = \"my key\"\n",
        "maps=googlemaps.Client(key=my_key)\n",
        "lat=[]\n",
        "lng=[]\n",
        "places = [\"부산역\", \"서강대학교\", \"신촌역\"]\n",
        "i=0\n",
        "for place in places:\n",
        "  i=i+1\n",
        "  try:\n",
        "    location=maps.geocode(place)[0].get('geometry')\n",
        "    lat.append(location['location']['lat'])\n",
        "    lng.append(location['location']['lng'])\n",
        "\n",
        "  except:\n",
        "    lat.append('')\n",
        "    lng.append('')\n",
        "    print(i)\n",
        "  \n",
        "df=pd.DataFrame({'위도':lat,'경도':lng}, index=places)\n",
        "print(df)"
      ],
      "execution_count": 2,
      "outputs": [
        {
          "output_type": "stream",
          "text": [
            "              위도          경도\n",
            "부산역    35.115225  129.042243\n",
            "서강대학교  37.550944  126.941002\n",
            "신촌역    37.559771  126.942367\n"
          ],
          "name": "stdout"
        }
      ]
    }
  ]
}